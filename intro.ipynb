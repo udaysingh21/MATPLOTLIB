{
 "cells": [
  {
   "cell_type": "markdown",
   "metadata": {},
   "source": [
    "# Data Visualisation  \n",
    "*Data Visualisation is a quick,easy way to convey concepts in a universal manner.*  \n",
    "*It provides graphical represenation with the help of various charts and plots.*"
   ]
  },
  {
   "cell_type": "markdown",
   "metadata": {},
   "source": [
    "# MATPLOTLIB  \n",
    "*Matplotlib is a plotting library for python programming language and its numerical mathematics extension Numpy.*  \n",
    "*It is used for Data visualisation.*  \n",
    "*It can plot both 2-d as well as 3-d plots.*  \n",
    "*It was developed by John Hunter in year 2002.*"
   ]
  }
 ],
 "metadata": {
  "kernelspec": {
   "display_name": "Python 3",
   "language": "python",
   "name": "python3"
  },
  "language_info": {
   "codemirror_mode": {
    "name": "ipython",
    "version": 3
   },
   "file_extension": ".py",
   "mimetype": "text/x-python",
   "name": "python",
   "nbconvert_exporter": "python",
   "pygments_lexer": "ipython3",
   "version": "3.10.9"
  }
 },
 "nbformat": 4,
 "nbformat_minor": 2
}
